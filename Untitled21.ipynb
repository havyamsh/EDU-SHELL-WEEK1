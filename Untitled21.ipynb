{
  "nbformat": 4,
  "nbformat_minor": 0,
  "metadata": {
    "colab": {
      "provenance": []
    },
    "kernelspec": {
      "name": "python3",
      "display_name": "Python 3"
    },
    "language_info": {
      "name": "python"
    }
  },
  "cells": [
    {
      "cell_type": "code",
      "execution_count": 20,
      "metadata": {
        "id": "Bhqqbi8MHc0y"
      },
      "outputs": [],
      "source": [
        "# Import necessary libraries\n",
        "import pandas as pd\n",
        "import numpy as np\n",
        "import matplotlib.pyplot as plt\n",
        "import seaborn as sns\n",
        "from sklearn.multioutput import MultiOutputRegressor\n",
        "from sklearn.ensemble import RandomForestRegressor\n",
        "from sklearn.model_selection import train_test_split, GridSearchCV\n",
        "from sklearn.metrics import mean_squared_error, r2_score, mean_absolute_error\n",
        "from sklearn.impute import KNNImputer\n",
        "from sklearn.preprocessing import StandardScaler\n",
        "import warnings\n",
        "warnings.filterwarnings('ignore')\n",
        "# Set plotting style\n",
        "# Change 'seaborn' to an explicit seaborn style name\n",
        "plt.style.use('seaborn-v0_8-darkgrid')"
      ]
    },
    {
      "cell_type": "code",
      "source": [
        "# Load the dataset\n",
        "df = pd.read_csv('/content/PB_All_2000_2021 (1).csv', sep=';')"
      ],
      "metadata": {
        "id": "j2zvvJcQHlVG"
      },
      "execution_count": 21,
      "outputs": []
    },
    {
      "cell_type": "code",
      "source": [
        "# Convert date to datetime\n",
        "df['date'] = pd.to_datetime(df['date'], format='%d.%m.%Y')"
      ],
      "metadata": {
        "id": "j7k-XIl1H5Rf"
      },
      "execution_count": 22,
      "outputs": []
    },
    {
      "cell_type": "code",
      "source": [
        "# Sort by id and date\n",
        "df = df.sort_values(by=['id', 'date'])"
      ],
      "metadata": {
        "id": "eKRnd3CGH9Ax"
      },
      "execution_count": 23,
      "outputs": []
    },
    {
      "cell_type": "code",
      "source": [
        "# Feature engineering: Extract time-based features\n",
        "df['year'] = df['date'].dt.year\n",
        "df['month'] = df['date'].dt.month\n",
        "df['day'] = df['date'].dt.day\n",
        "df['dayofyear'] = df['date'].dt.dayofyear\n",
        "df['quarter'] = df['date'].dt.quarter\n",
        "df['is_weekend'] = df['date'].dt.weekday >= 5"
      ],
      "metadata": {
        "id": "bgacpPqtKTIp"
      },
      "execution_count": 24,
      "outputs": []
    },
    {
      "cell_type": "code",
      "source": [
        "# Handle missing values using KNN Imputer\n",
        "imputer = KNNImputer(n_neighbors=5)\n",
        "numeric_cols = ['NH4', 'BSK5', 'Suspended', 'O2', 'NO3', 'NO2', 'SO4', 'PO4', 'CL']\n",
        "df[numeric_cols] = imputer.fit_transform(df[numeric_cols])"
      ],
      "metadata": {
        "id": "tmtQAFfOKVjE"
      },
      "execution_count": 25,
      "outputs": []
    },
    {
      "cell_type": "code",
      "source": [
        "# Verify missing values are handled\n",
        "print(\"Missing values after imputation:\\n\", df.isnull().sum())"
      ],
      "metadata": {
        "colab": {
          "base_uri": "https://localhost:8080/"
        },
        "id": "kaVAjtE6KXsf",
        "outputId": "99ebbfad-4aa0-42ab-dc9f-87fd9b30d490"
      },
      "execution_count": 26,
      "outputs": [
        {
          "output_type": "stream",
          "name": "stdout",
          "text": [
            "Missing values after imputation:\n",
            " id            0\n",
            "date          0\n",
            "NH4           0\n",
            "BSK5          0\n",
            "Suspended     0\n",
            "O2            0\n",
            "NO3           0\n",
            "NO2           0\n",
            "SO4           0\n",
            "PO4           0\n",
            "CL            0\n",
            "year          0\n",
            "month         0\n",
            "day           0\n",
            "dayofyear     0\n",
            "quarter       0\n",
            "is_weekend    0\n",
            "dtype: int64\n"
          ]
        }
      ]
    },
    {
      "cell_type": "code",
      "source": [
        "# Define pollutants to predict\n",
        "pollutants = ['O2', 'NO3', 'NO2', 'SO4', 'PO4', 'CL']"
      ],
      "metadata": {
        "id": "Y7choAMCKbdU"
      },
      "execution_count": 27,
      "outputs": []
    },
    {
      "cell_type": "code",
      "source": [
        "# Create lag features for pollutants (previous time step values)\n",
        "for pollutant in pollutants:\n",
        "    df[f'{pollutant}_lag1'] = df.groupby('id')[pollutant].shift(1)\n",
        "    df[f'{pollutant}_lag2'] = df.groupby('id')[pollutant].shift(2)"
      ],
      "metadata": {
        "id": "OkUkAocVKdi7"
      },
      "execution_count": 28,
      "outputs": []
    },
    {
      "cell_type": "code",
      "source": [
        "# Drop rows with NaN values created by lagging\n",
        "df = df.dropna()"
      ],
      "metadata": {
        "id": "2lugIOpHKgZn"
      },
      "execution_count": 29,
      "outputs": []
    },
    {
      "cell_type": "code",
      "source": [
        "# Define features and target variables\n",
        "features = ['year', 'month', 'day', 'dayofyear', 'quarter', 'is_weekend',\n",
        "            'NH4', 'BSK5', 'Suspended'] + [f'{p}_lag1' for p in pollutants] + [f'{p}_lag2' for p in pollutants]\n",
        "X = df[features]\n",
        "y = df[pollutants]"
      ],
      "metadata": {
        "id": "RXvielHRKiJ3"
      },
      "execution_count": 30,
      "outputs": []
    },
    {
      "cell_type": "code",
      "source": [
        "# Scale features\n",
        "scaler = StandardScaler()\n",
        "X_scaled = scaler.fit_transform(X)"
      ],
      "metadata": {
        "id": "FH6utJJJKjQc"
      },
      "execution_count": 31,
      "outputs": []
    },
    {
      "cell_type": "code",
      "source": [
        "# Split the data\n",
        "X_train, X_test, y_train, y_test = train_test_split(X_scaled, y, test_size=0.2, random_state=42)"
      ],
      "metadata": {
        "id": "Z9bK0sYQKlZU"
      },
      "execution_count": 32,
      "outputs": []
    },
    {
      "cell_type": "code",
      "source": [
        "# Initialize and train the model with hyperparameter tuning\n",
        "base_model = RandomForestRegressor(random_state=42)\n",
        "param_grid = {\n",
        "    'n_estimators': [100, 200],\n",
        "    'max_depth': [10, 20, None],\n",
        "    'min_samples_split': [2, 5]\n",
        "}\n",
        "grid_search = GridSearchCV(base_model, param_grid, cv=5, scoring='neg_mean_squared_error', n_jobs=-1)\n",
        "multi_output_model = MultiOutputRegressor(grid_search)\n",
        "multi_output_model.fit(X_train, y_train)"
      ],
      "metadata": {
        "id": "BPar6m82Kphu"
      },
      "execution_count": null,
      "outputs": []
    },
    {
      "cell_type": "code",
      "source": [
        "# Best parameters from grid search\n",
        "print(\"Best parameters for RandomForest:\", grid_search.best_params_)"
      ],
      "metadata": {
        "id": "NXRBXR_0Ksni"
      },
      "execution_count": null,
      "outputs": []
    },
    {
      "cell_type": "code",
      "source": [
        "# Make predictions\n",
        "y_pred = multi_output_model.predict(X_test)"
      ],
      "metadata": {
        "id": "1d3M3yneKwtQ"
      },
      "execution_count": null,
      "outputs": []
    },
    {
      "cell_type": "code",
      "source": [
        "# Evaluate model performance\n",
        "for i, pollutant in enumerate(pollutants):\n",
        "    mse = mean_squared_error(y_test[pollutant], y_pred[:, i])\n",
        "    mae = mean_absolute_error(y_test[pollutant], y_pred[:, i])\n",
        "    r2 = r2_score(y_test[pollutant], y_pred[:, i])\n",
        "    print(f\"\\nPerformance for {pollutant}:\")\n",
        "    print(f\"MSE: {mse:.4f}\")\n",
        "    print(f\"MAE: {mae:.4f}\")\n",
        "    print(f\"R2 Score: {r2:.4f}\")"
      ],
      "metadata": {
        "id": "021hHC0dKzDf"
      },
      "execution_count": null,
      "outputs": []
    },
    {
      "cell_type": "code",
      "source": [
        "# Feature importance analysis\n",
        "feature_importance = pd.DataFrame({\n",
        "    'feature': features,\n",
        "    'importance': np.mean([est.best_estimator_.feature_importances_ for est in multi_output_model.estimators_], axis=0)\n",
        "})\n",
        "feature_importance = feature_importance.sort_values('importance', ascending=False)"
      ],
      "metadata": {
        "id": "a9j_t_l4K1lj"
      },
      "execution_count": null,
      "outputs": []
    },
    {
      "cell_type": "code",
      "source": [
        "# Visualize feature importance\n",
        "plt.figure(figsize=(12, 6))\n",
        "sns.barplot(x='importance', y='feature', data=feature_importance)\n",
        "plt.title('Feature Importance for Pollutant Prediction')\n",
        "plt.tight_layout()\n",
        "plt.show()"
      ],
      "metadata": {
        "id": "_d2XjgXoK2Rk"
      },
      "execution_count": null,
      "outputs": []
    },
    {
      "cell_type": "code",
      "source": [
        "# Visualize actual vs predicted for one pollutant (example: O2)\n",
        "plt.figure(figsize=(10, 6))\n",
        "plt.scatter(y_test['O2'], y_pred[:, 0], alpha=0.5)\n",
        "plt.plot([y_test['O2'].min(), y_test['O2'].max()], [y_test['O2'].min(), y_test['O2'].max()], 'r--')\n",
        "plt.xlabel('Actual O2')\n",
        "plt.ylabel('Predicted O2')\n",
        "plt.title('Actual vs Predicted O2 Concentrations')\n",
        "plt.tight_layout()\n",
        "plt.show()"
      ],
      "metadata": {
        "id": "V0CKYhCUK7et"
      },
      "execution_count": null,
      "outputs": []
    },
    {
      "cell_type": "code",
      "source": [
        "# Correlation matrix visualization\n",
        "plt.figure(figsize=(12, 8))\n",
        "sns.heatmap(df[pollutants + ['NH4', 'BSK5', 'Suspended']].corr(), annot=True, cmap='coolwarm')\n",
        "plt.title('Correlation Matrix of Pollutants')\n",
        "plt.tight_layout()\n",
        "plt.show()"
      ],
      "metadata": {
        "id": "k-wMvs9cK8QX"
      },
      "execution_count": null,
      "outputs": []
    }
  ]
}